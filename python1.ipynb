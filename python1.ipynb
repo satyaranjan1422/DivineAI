{
  "nbformat": 4,
  "nbformat_minor": 0,
  "metadata": {
    "colab": {
      "name": "python1.ipynb",
      "provenance": [],
      "authorship_tag": "ABX9TyOBtZSRUbfXfPWex56Z9Gpg",
      "include_colab_link": true
    },
    "kernelspec": {
      "name": "python3",
      "display_name": "Python 3"
    },
    "language_info": {
      "name": "python"
    }
  },
  "cells": [
    {
      "cell_type": "markdown",
      "metadata": {
        "id": "view-in-github",
        "colab_type": "text"
      },
      "source": [
        "<a href=\"https://colab.research.google.com/github/satyaranjan1422/DivineAI/blob/main/python1.ipynb\" target=\"_parent\"><img src=\"https://colab.research.google.com/assets/colab-badge.svg\" alt=\"Open In Colab\"/></a>"
      ]
    },
    {
      "cell_type": "code",
      "metadata": {
        "colab": {
          "base_uri": "https://localhost:8080/"
        },
        "id": "Y5sBvSqjQlzu",
        "outputId": "aab86d44-5601-41dd-b0e3-ef69bc06b864"
      },
      "source": [
        "print('satya')\n",
        "print(type(8))\n",
        "print(type(8.0))\n",
        "\n",
        "x, y = 10, 5\n",
        "print(x, y)\n",
        "\n",
        "x, y = y, x\n",
        "print(x, y)"
      ],
      "execution_count": 2,
      "outputs": [
        {
          "output_type": "stream",
          "text": [
            "satya\n",
            "<class 'int'>\n",
            "<class 'float'>\n",
            "10 5\n",
            "5 10\n"
          ],
          "name": "stdout"
        }
      ]
    },
    {
      "cell_type": "code",
      "metadata": {
        "colab": {
          "base_uri": "https://localhost:8080/"
        },
        "id": "ghbyss2iRxDJ",
        "outputId": "1c7f10ec-24e9-4783-a7bb-14504c344bdd"
      },
      "source": [
        "num = 99\n",
        "print(num * 2)\n",
        "print(num)\n",
        "\n",
        "num *= 2\n",
        "print(num)\n",
        "\n",
        "#Naming Convension\n",
        "#snake_case\n",
        "snake_case = 10\n",
        "\n",
        "#for constants\n",
        "CAPITAL_SNAKE_CASE, PI = 100, 3.14159603\n",
        "#for class\n",
        "class UpperCamelCase:\n",
        "    pass"
      ],
      "execution_count": 3,
      "outputs": [
        {
          "output_type": "stream",
          "text": [
            "198\n",
            "99\n",
            "198\n"
          ],
          "name": "stdout"
        }
      ]
    },
    {
      "cell_type": "code",
      "metadata": {
        "id": "8j18UvbOS9rU"
      },
      "source": [
        ""
      ],
      "execution_count": null,
      "outputs": []
    }
  ]
}